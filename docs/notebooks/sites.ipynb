{
 "cells": [
  {
   "source": [
    "## How to implement a sites customisation?\n",
    "\n",
    "As had been discussed already in the [documentation](https://darc.jarryshaw.me/en/latest/custom.html#sites-customisation), the implementation of a sites customisation is dead simple: just inherits the `darc.sites.BaseSite` class and overwrites the corresponding `crawler` and `loader` *abstract* **static methods**.\n",
    "\n",
    "See below an example from the documentation."
   ],
   "cell_type": "markdown",
   "metadata": {}
  },
  {
   "cell_type": "code",
   "execution_count": null,
   "metadata": {},
   "outputs": [],
   "source": [
    "from darc.sites import BaseSite, register"
   ]
  },
  {
   "source": [
    "As the class below suggests, you may implement and register your sites customisation for *mysite.com* and *www.mysite.com* using the `MySite` class, where `hostname` attribute contains the list of hostnames to which the class should be associated with.\n",
    "\n",
    "**NB**: Implementation details of the `crawler` and `loader` methods will be discussed in following sections."
   ],
   "cell_type": "markdown",
   "metadata": {}
  },
  {
   "cell_type": "code",
   "execution_count": null,
   "metadata": {},
   "outputs": [],
   "source": [
    "class MySite(BaseSite):\n",
    "    \"\"\"This is a site customisation class for demonstration purpose.\n",
    "    You may implement a module as well should you prefer.\"\"\"\n",
    "\n",
    "    #: List[str]: Hostnames the sites customisation is designed for.\n",
    "    hostname = ['mysite.com', 'www.mysite.com']\n",
    "\n",
    "    @staticmethod\n",
    "    def crawler(session, link): ...\n",
    "\n",
    "    @staticmethod\n",
    "    def loader(driver, link): ..."
   ]
  },
  {
   "source": [
    "Should your sites customisation be associated with multiple sites, you can just add them all to the `hostname` attribute; when you call `darc.sites.register` to register your sites customisation, the function will automatically handle the registry association information."
   ],
   "cell_type": "markdown",
   "metadata": {}
  },
  {
   "cell_type": "code",
   "execution_count": null,
   "metadata": {},
   "outputs": [],
   "source": [
    "# register sites implicitly\n",
    "register(MySite)"
   ]
  },
  {
   "source": [
    "Nonetheless, in case where you would rather specify the hostnames at runtime (instead of adding them to the `hostname` attribute), you may just leave out the `hostname` attribute as `None` and specify your list of hostnames at `darc.sites.register` function call."
   ],
   "cell_type": "markdown",
   "metadata": {}
  },
  {
   "cell_type": "code",
   "execution_count": null,
   "metadata": {},
   "outputs": [],
   "source": [
    "# register sites explicitly\n",
    "register(MySite, 'mysite.com', 'www.mysite.com')"
   ]
  },
  {
   "source": [
    "### Crawler Hook\n",
    "\n",
    "The `crawler` method is based on `requests.Session` objects and returns a `requests.Response` instance representing the *crawled* web page.\n",
    "\n",
    "Type annotations of the method can be described as "
   ],
   "cell_type": "markdown",
   "metadata": {}
  },
  {
   "cell_type": "code",
   "execution_count": null,
   "metadata": {},
   "outputs": [],
   "source": [
    "@staticmethod\n",
    "def crawler(session: requests.Session, link: darc.link.Link) -> requests.Response: ..."
   ]
  },
  {
   "source": [
    "where `session` is the `requests.Session` instance with **proxy** presets and `link` is the target link (parsed by `darc.link.parse_link` to provide more information than mere string).\n",
    "\n",
    "For example, let's say you would like to inject a cookie named `SessionID` and an `Authentication` header with some fake identity, then you may write the `crawler` method as below."
   ],
   "cell_type": "markdown",
   "metadata": {}
  },
  {
   "cell_type": "code",
   "execution_count": null,
   "metadata": {},
   "outputs": [],
   "source": [
    "    @staticmethod\n",
    "    def crawler(session, link):\n",
    "        \"\"\"Crawler hook for my site.\n",
    "\n",
    "        Args:\n",
    "            session (requests.Session): Session object with proxy settings.\n",
    "            link (darc.link.Link): Link object to be crawled.\n",
    "\n",
    "        Returns:\n",
    "            requests.Response: The final response object with crawled data.\n",
    "\n",
    "        \"\"\"\n",
    "        # inject cookies\n",
    "        session.cookies.set('SessionID', 'fake-session-id-value')\n",
    "\n",
    "        # insert headers\n",
    "        session.headers['Authentication'] = 'Basic fake-identity-credential'\n",
    "\n",
    "        response = session.get(link.url, allow_redirects=True)\n",
    "        return response"
   ]
  },
  {
   "source": [
    "In this case when `darc` crawling the link, the HTTP(S) request will be provided with a session cookie and HTTP header, so that it may bypass potential authorisation checks and land on the target page."
   ],
   "cell_type": "markdown",
   "metadata": {}
  },
  {
   "source": [
    "### Loader Hook\n",
    "\n",
    "The `loader` method is based on `selenium.webdriver.Chrome` objects and returns a the original web driver instance containing the *loaded* web page.\n",
    "\n",
    "Type annotations of the method can be described as "
   ],
   "cell_type": "markdown",
   "metadata": {}
  },
  {
   "cell_type": "code",
   "execution_count": null,
   "metadata": {},
   "outputs": [],
   "source": [
    "@staticmethod\n",
    "def loader(driver: selenium.webdriver.Chrome, link: darc.link.Link) -> selenium.webdriver.Chrome: ..."
   ]
  },
  {
   "source": [
    "where `driver` is the `selenium.webdriver.Chrome` instance with **proxy** presets and `link` is the target link (parsed by `darc.link.parse_link` to provide more information than mere string).\n",
    "\n",
    "For example, let's say you would like to animate user login and go to the target page after successful attempt, then you may write the `loader` method as below."
   ],
   "cell_type": "markdown",
   "metadata": {}
  },
  {
   "cell_type": "code",
   "execution_count": null,
   "metadata": {},
   "outputs": [],
   "source": [
    "    @staticmethod\n",
    "    def loader(driver, link):\n",
    "        \"\"\"Loader hook for my site.\n",
    "\n",
    "        Args:\n",
    "            driver (selenium.webdriver.Chrome): Web driver object with proxy settings.\n",
    "            link (darc.link.Link): Link object to be loaded.\n",
    "\n",
    "        Returns:\n",
    "            selenium.webdriver.Chrome: The web driver object with loaded data.\n",
    "\n",
    "        \"\"\"\n",
    "        # land on login page\n",
    "        driver.get('https://%s/login' % link.host)\n",
    "\n",
    "        # animate login attempt\n",
    "        form = driver.find_element_by_id('login-form')\n",
    "        form.find_element_by_id('username').send_keys('admin')\n",
    "        form.find_element_by_id('password').send_keys('p@ssd')\n",
    "        form.click()\n",
    "\n",
    "        # check if the attempt succeeded\n",
    "        if driver.title == 'Please login!':\n",
    "            raise ValueError('failed to login %s' % link.host)\n",
    "\n",
    "        # go to the target page\n",
    "        driver.get(link.url)\n",
    "\n",
    "        # wait for page to finish loading\n",
    "        from darc.const import SE_WAIT  # should've been put with the top-level import statements\n",
    "        if SE_WAIT is not None:\n",
    "            time.sleep(SE_WAIT)\n",
    "\n",
    "        return driver"
   ]
  },
  {
   "source": [
    "In this case when `darc` loading the link, the web driver will first perform user login, so that it may bypass potential authorisation checks and land on the target page."
   ],
   "cell_type": "markdown",
   "metadata": {}
  },
  {
   "source": [
    "### In case to drop the link from task queue...\n",
    "\n",
    "In some scenarios, you may want to remove the target link from the task queue, then there're basically two ways:"
   ],
   "cell_type": "markdown",
   "metadata": {}
  },
  {
   "source": [
    "1. do like a wildling, remove it directly from the database\n",
    "\n",
    "As there're three task queues used in `darc`, each represents task queues for the *crawler* (`requests` database) and *loader* (`selenium` database) worker nodes and a track record for known hostnames (hostname database), you will need to call corresponding functions to remove the target link from the database desired.\n",
    "\n",
    "Possible functions are as below:\n",
    "\n",
    "* [`darc.db.drop_hostname`](https://darc.jarryshaw.me/en/latest/darc/db.html#darc.db.drop_hostname)\n",
    "* [`darc.db.drop_requests`](https://darc.jarryshaw.me/en/latest/darc/db.html#darc.db.drop_requests)\n",
    "* [`darc.db.drop_selenium`](https://darc.jarryshaw.me/en/latest/darc/db.html#darc.db.drop_selenium)\n",
    "\n",
    "all take one positional argument `link`, i.e. the `darc.link.Link` object to be removed.\n",
    "\n",
    "Say you would like to remove `https://www.mysite.com` from the `requests` database,\n",
    "then you may just run"
   ],
   "cell_type": "markdown",
   "metadata": {}
  },
  {
   "cell_type": "code",
   "execution_count": null,
   "metadata": {},
   "outputs": [],
   "source": [
    "from darc.db import drop_requests \n",
    "from darc.link import parse_link\n",
    "\n",
    "link = parse_link('https://www.mysite.com')\n",
    "drop_requests(link)"
   ]
  },
  {
   "source": [
    "2.  or make it in an elegant way\n",
    "\n",
    "When implementing the sites customisation, you may wish to drop certain links at runtime, then you may simply raise `darc.error.LinkNoReturn` in the corresponding `crawler` and/or `loader` methods.\n",
    "\n",
    "For instance, you would like to proceed with `mysite.com` but **NOT** `www.mysite.com` in the sites customisation, then you may implement your class as"
   ],
   "cell_type": "markdown",
   "metadata": {}
  },
  {
   "cell_type": "code",
   "execution_count": null,
   "metadata": {},
   "outputs": [],
   "source": [
    "from darc.error import LinkNoReturn\n",
    "\n",
    "class MySite(BaseSite):\n",
    "\n",
    "    ...\n",
    "\n",
    "    @staticmethod\n",
    "    def crawler(session, link):\n",
    "        if link.host == 'www.mysite.com':\n",
    "            raise LinkNoReturn\n",
    "\n",
    "        ...\n",
    "\n",
    "    @staticmethod\n",
    "    def loader(driver, link):\n",
    "        if link.host == 'www.mysite.com':\n",
    "            raise LinkNoReturn\n",
    "\n",
    "        ..."
   ]
  },
  {
   "source": [
    "### Then what should I do to include my sites customisation?\n",
    "\n",
    "Simple as well!\n",
    "\n",
    "Just *install* your codes to where you're running `darc`, e.g. the Docker container, remote server, etc.; then change the startup by injecting your codes before the entrypoint.\n",
    "\n",
    "Say the structure of the working directory is as below:\n",
    "\n",
    "```\n",
    ".\n",
    "|-- .venv/\n",
    "|   |-- lib/python3.8/site-packages\n",
    "|   |   |-- darc/\n",
    "|   |   |   |-- ...\n",
    "|   |   |-- ...\n",
    "|   |-- ...\n",
    "|-- mysite.py\n",
    "|-- ...\n",
    "```\n",
    "\n",
    "where `.venv` is the folder of virtual environment with `darc` installed and `mysite.py` is the file with your sites customisation.\n",
    "\n",
    "Then you just need to change your `mysite.py` with some additional lines as below:"
   ],
   "cell_type": "markdown",
   "metadata": {}
  },
  {
   "cell_type": "code",
   "execution_count": null,
   "metadata": {},
   "outputs": [],
   "source": [
    "# mysite.py\n",
    "\n",
    "import sys\n",
    "\n",
    "from darc.__main__ import main\n",
    "from darc.sites import BaseSite, register\n",
    "\n",
    "\n",
    "class MySite(BaseSite):\n",
    "\n",
    "    ...\n",
    "\n",
    "\n",
    "# register sites\n",
    "register(MySite)\n",
    "\n",
    "if __name__ == '__main__':\n",
    "    sys.exit(main())"
   ]
  },
  {
   "source": [
    "And now, you can start `darc` through `python mysite.py` instead of `python -m darc` with your sites customisation registered to the system."
   ],
   "cell_type": "markdown",
   "metadata": {}
  }
 ],
 "metadata": {
  "kernelspec": {
   "display_name": "Python 3.8.5 64-bit ('darc': pipenv)",
   "language": "python",
   "name": "python38564bitdarcpipenv7271bdd769024c17a0550e82bffdebba"
  },
  "language_info": {
   "codemirror_mode": {
    "name": "ipython",
    "version": 3
   },
   "file_extension": ".py",
   "mimetype": "text/x-python",
   "name": "python",
   "nbconvert_exporter": "python",
   "pygments_lexer": "ipython3",
   "version": "3.8.5-final"
  }
 },
 "nbformat": 4,
 "nbformat_minor": 2
}